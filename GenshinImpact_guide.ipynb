{
 "cells": [
  {
   "cell_type": "code",
   "execution_count": 26,
   "id": "372006a9-ca46-4d8d-8e76-3aa9996917b0",
   "metadata": {},
   "outputs": [
    {
     "name": "stdout",
     "output_type": "stream",
     "text": [
      "The autoreload extension is already loaded. To reload it, use:\n",
      "  %reload_ext autoreload\n"
     ]
    }
   ],
   "source": [
    "%load_ext autoreload\n",
    "%autoreload 2"
   ]
  },
  {
   "cell_type": "code",
   "execution_count": 27,
   "id": "ccafc972-1e69-4b69-8b4b-5a5fa9c9a25b",
   "metadata": {},
   "outputs": [],
   "source": [
    "import db_interface\n",
    "import db_utils    "
   ]
  },
  {
   "cell_type": "markdown",
   "id": "9e1e5071-28c8-4a44-8859-32bad6280a31",
   "metadata": {
    "tags": []
   },
   "source": [
    "# Make connection"
   ]
  },
  {
   "cell_type": "code",
   "execution_count": 18,
   "id": "a0a4ca7b-f646-48f9-a1e4-9f99055f9a03",
   "metadata": {},
   "outputs": [],
   "source": [
    "db = db_utils.DBConnection()"
   ]
  },
  {
   "cell_type": "markdown",
   "id": "567e8b4d-8600-4c3f-96a6-3ec9ab73eff2",
   "metadata": {},
   "source": [
    "# Interface"
   ]
  },
  {
   "cell_type": "code",
   "execution_count": 19,
   "id": "050d52f8-ee18-454d-bf34-09b50f28ca7b",
   "metadata": {},
   "outputs": [
    {
     "data": {
      "application/vnd.jupyter.widget-view+json": {
       "model_id": "11718671ab4f4dd290f5392355e42db5",
       "version_major": 2,
       "version_minor": 0
      },
      "text/plain": [
       "VBox(children=(HTML(value='<h1>Выбор персонажей</h1>'), HTML(value='<p>Качество персонажа:</p>'), RadioButtons…"
      ]
     },
     "metadata": {},
     "output_type": "display_data"
    },
    {
     "data": {
      "application/vnd.jupyter.widget-view+json": {
       "model_id": "811e2fd10f654a1d835490d35d0b6f9e",
       "version_major": 2,
       "version_minor": 0
      },
      "text/plain": [
       "Output()"
      ]
     },
     "metadata": {},
     "output_type": "display_data"
    }
   ],
   "source": [
    "db_interface.character_by_rare_element_and_weapon_interface(db)"
   ]
  },
  {
   "cell_type": "code",
   "execution_count": 20,
   "id": "44f90106-b250-49cc-a9d4-6c0af18c5dab",
   "metadata": {},
   "outputs": [
    {
     "data": {
      "application/vnd.jupyter.widget-view+json": {
       "model_id": "0cfe36908e9846a0a5138232f09e50b0",
       "version_major": 2,
       "version_minor": 0
      },
      "text/plain": [
       "VBox(children=(HTML(value='<h1>Выбор оружия</h1>'), HTML(value='<p>Качество оружия:</p>'), RadioButtons(layout…"
      ]
     },
     "metadata": {},
     "output_type": "display_data"
    },
    {
     "data": {
      "application/vnd.jupyter.widget-view+json": {
       "model_id": "8baafaf2fa1e47d498a408f9c7b0f9d1",
       "version_major": 2,
       "version_minor": 0
      },
      "text/plain": [
       "Output()"
      ]
     },
     "metadata": {},
     "output_type": "display_data"
    }
   ],
   "source": [
    "db_interface.weapon_interface(db)"
   ]
  },
  {
   "cell_type": "code",
   "execution_count": 21,
   "id": "6eab0551-7231-40bd-8004-12c7227b60cb",
   "metadata": {},
   "outputs": [
    {
     "data": {
      "application/vnd.jupyter.widget-view+json": {
       "model_id": "563286bc84b3494ebdceff72600fb53e",
       "version_major": 2,
       "version_minor": 0
      },
      "text/plain": [
       "VBox(children=(HTML(value='<h1>Добавить нового персонажа</h1>'), Text(value='', description='Имя:', placeholde…"
      ]
     },
     "metadata": {},
     "output_type": "display_data"
    }
   ],
   "source": [
    "db_interface.add_character(db)"
   ]
  },
  {
   "cell_type": "code",
   "execution_count": 28,
   "id": "c1accc80-6777-44ed-955c-cfc18af99937",
   "metadata": {},
   "outputs": [
    {
     "data": {
      "application/vnd.jupyter.widget-view+json": {
       "model_id": "bdbc8f29353b47bf97ca6aca932f73cd",
       "version_major": 2,
       "version_minor": 0
      },
      "text/plain": [
       "VBox(children=(HTML(value='<h1>Добавить новое оружие</h1>'), Text(value='', description='Название:', placehold…"
      ]
     },
     "metadata": {},
     "output_type": "display_data"
    }
   ],
   "source": [
    "db_interface.add_weapon(db)"
   ]
  },
  {
   "cell_type": "code",
   "execution_count": 29,
   "id": "67f329a8-6f12-41df-9fe2-ff913f576c52",
   "metadata": {},
   "outputs": [
    {
     "data": {
      "application/vnd.jupyter.widget-view+json": {
       "model_id": "e4c4870d40f942818318b72bfe0400d0",
       "version_major": 2,
       "version_minor": 0
      },
      "text/plain": [
       "VBox(children=(HTML(value='<h1>Удаление</h1>'), HTML(value='<h3>Персонажи</h3><p>Выберете имя персонажа, котор…"
      ]
     },
     "metadata": {},
     "output_type": "display_data"
    }
   ],
   "source": [
    "db_interface.remove_block(db)"
   ]
  },
  {
   "cell_type": "code",
   "execution_count": null,
   "id": "96cb4cfc-4680-4030-8eb6-12a912fdc488",
   "metadata": {},
   "outputs": [],
   "source": []
  }
 ],
 "metadata": {
  "kernelspec": {
   "display_name": "Python 3 (ipykernel)",
   "language": "python",
   "name": "python3"
  },
  "language_info": {
   "codemirror_mode": {
    "name": "ipython",
    "version": 3
   },
   "file_extension": ".py",
   "mimetype": "text/x-python",
   "name": "python",
   "nbconvert_exporter": "python",
   "pygments_lexer": "ipython3",
   "version": "3.9.7"
  }
 },
 "nbformat": 4,
 "nbformat_minor": 5
}
